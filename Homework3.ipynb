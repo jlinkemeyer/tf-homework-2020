{
  "nbformat": 4,
  "nbformat_minor": 0,
  "metadata": {
    "colab": {
      "name": "Homework3.ipynb",
      "provenance": [],
      "collapsed_sections": []
    },
    "kernelspec": {
      "name": "python3",
      "display_name": "Python 3"
    },
    "accelerator": "GPU"
  },
  "cells": [
    {
      "cell_type": "code",
      "metadata": {
        "id": "crOefMWFeqgg"
      },
      "source": [
        "import numpy as np\n",
        "import time\n",
        "import matplotlib.pyplot as plt\n",
        "import tensorflow as tf\n",
        "import tensorflow_datasets as tfds\n",
        "from tensorflow.keras.layers import Layer"
      ],
      "execution_count": 12,
      "outputs": []
    },
    {
      "cell_type": "markdown",
      "metadata": {
        "id": "hNOZDymJm-Kq"
      },
      "source": [
        "# Task 1: Data Set\n",
        "\n",
        "The following cell loads the first 10% of training and 1% of test examples of the 'genomics_ood' tensorflow dataset. The parameters in the tfds.load() function are shortly described, or more info please see the tensorflow overview on how to load datasets with tfds: https://www.tensorflow.org/datasets/overview"
      ]
    },
    {
      "cell_type": "code",
      "metadata": {
        "id": "kyt-nZ4ceybi"
      },
      "source": [
        "(train_data, test_data), ds_info = tfds.load('genomics_ood', \n",
        "                                   split=['train[:10%]', 'test[:1%]'], # Only load the first 10% of train and 1% of the test examples of the dataset as we only want 100.000 train and 1.000 test examples\n",
        "                                   as_supervised=True, # This allows to call data, label for train and test data\n",
        "                                   shuffle_files=True, # Shuffle\n",
        "                                   try_gcs=True, # Load data from GCS bucket\n",
        "                                   download=False, # Do not download the dataset locally\n",
        "                                   with_info=True # This is only necessary if one wants to load info on the dataset (to variable ds_info)\n",
        "                                   )"
      ],
      "execution_count": 15,
      "outputs": []
    },
    {
      "cell_type": "markdown",
      "metadata": {
        "id": "4bhgxDoRnF0t"
      },
      "source": [
        "When loading the data set, one can choose to also get info on the dataset by setting with_info=True in tfds.load(). To take a look at the info, run the following cell."
      ]
    },
    {
      "cell_type": "code",
      "metadata": {
        "id": "OZHAsxKclKWm",
        "outputId": "277524a1-19a1-421a-c960-bca2b4e97524",
        "colab": {
          "base_uri": "https://localhost:8080/"
        }
      },
      "source": [
        "# Print general info on dataset\n",
        "print(ds_info)"
      ],
      "execution_count": 16,
      "outputs": [
        {
          "output_type": "stream",
          "text": [
            "tfds.core.DatasetInfo(\n",
            "    name='genomics_ood',\n",
            "    version=0.0.1,\n",
            "    description='Bacteria identification based on genomic sequences holds the promise of early\n",
            "detection of diseases, but requires a model that can output low confidence\n",
            "predictions on out-of-distribution (OOD) genomic sequences from new bacteria\n",
            "that were not present in the training data.\n",
            "\n",
            "We introduce a genomics dataset for OOD detection that allows other researchers\n",
            "to benchmark progress on this important problem. New bacterial classes are\n",
            "gradually discovered over the years. Grouping classes by years is a natural way\n",
            "to mimic the in-distribution and OOD examples.\n",
            "\n",
            "The dataset contains genomic sequences sampled from 10 bacteria classes that\n",
            "were discovered before the year 2011 as in-distribution classes, 60 bacteria\n",
            "classes discovered between 2011-2016 as OOD for validation, and another 60\n",
            "different bacteria classes discovered after 2016 as OOD for test, in total 130\n",
            "bacteria classes. Note that training, validation, and test data are provided for\n",
            "the in-distribution classes, and validation and test data are proviede for OOD\n",
            "classes. By its nature, OOD data is not available at the training time.\n",
            "\n",
            "The genomic sequence is 250 long, composed by characters of {A, C, G, T}. The\n",
            "sample size of each class is 100,000 in the training and 10,000 for the\n",
            "validation and test sets.\n",
            "\n",
            "For each example, the features include:\n",
            "  seq: the input DNA sequence composed by {A, C, G, T}.\n",
            "  label: the name of the bacteria class.\n",
            "  seq_info: the source of the DNA sequence, i.e., the genome name, NCBI\n",
            "  accession number, and the position where it was sampled from.\n",
            "  domain: if the bacteria is in-distribution (in), or OOD (ood)\n",
            "\n",
            "The details of the dataset can be found in the paper supplemental.',\n",
            "    homepage='https://github.com/google-research/google-research/tree/master/genomics_ood',\n",
            "    features=FeaturesDict({\n",
            "        'domain': Text(shape=(), dtype=tf.string),\n",
            "        'label': ClassLabel(shape=(), dtype=tf.int64, num_classes=130),\n",
            "        'seq': Text(shape=(), dtype=tf.string),\n",
            "        'seq_info': Text(shape=(), dtype=tf.string),\n",
            "    }),\n",
            "    total_num_examples=2400000,\n",
            "    splits={\n",
            "        'test': 100000,\n",
            "        'test_ood': 600000,\n",
            "        'train': 1000000,\n",
            "        'validation': 100000,\n",
            "        'validation_ood': 600000,\n",
            "    },\n",
            "    supervised_keys=('seq', 'label'),\n",
            "    citation=\"\"\"@inproceedings{ren2019likelihood,\n",
            "      title={Likelihood ratios for out-of-distribution detection},\n",
            "      author={Ren, Jie and\n",
            "      Liu, Peter J and\n",
            "      Fertig, Emily and\n",
            "      Snoek, Jasper and\n",
            "      Poplin, Ryan and\n",
            "      Depristo, Mark and\n",
            "      Dillon, Joshua and\n",
            "      Lakshminarayanan, Balaji},\n",
            "      booktitle={Advances in Neural Information Processing Systems},\n",
            "      pages={14707--14718},\n",
            "      year={2019}\n",
            "    }\"\"\",\n",
            "    redistribution_info=,\n",
            ")\n",
            "\n"
          ],
          "name": "stdout"
        }
      ]
    },
    {
      "cell_type": "markdown",
      "metadata": {
        "id": "Yjq9jxCgng_-"
      },
      "source": [
        "Also, we can take a look at the data. Because we set as_supervised=True when loading the data, we can iterate over either train or test data by calling 'for data, label in train:' and print the info we want. In the following cell, the first 5 training examples and labels will be printed."
      ]
    },
    {
      "cell_type": "code",
      "metadata": {
        "id": "3636jPU6fim7",
        "outputId": "b41de59c-6052-4222-cf26-b9a57aa5a506",
        "colab": {
          "base_uri": "https://localhost:8080/"
        }
      },
      "source": [
        "# If one wants to take a look at the data\n",
        "for i, (input, label) in enumerate(train_data): # This is possible because we set as_supervised=True when loading the dataset\n",
        "  print('(' + str(i+1) + ')')\n",
        "\n",
        "  # Data is a of type string:\n",
        "  tf.print('Input:', input) # Use tf.print to only print string element (for print(data), the entire tensor content will be printed)\n",
        "\n",
        "  # Labels are int ranging from 0-9\n",
        "  tf.print('Label:', label, '\\n')\n",
        "\n",
        "  # This is to interrupt after 5 examples where shown\n",
        "  if(i >= 4):\n",
        "    break"
      ],
      "execution_count": 17,
      "outputs": [
        {
          "output_type": "stream",
          "text": [
            "(1)\n",
            "Input: \"AAACTATGTTATATTCACGATGATTAACTTACAAAGGAGTTTCAACTATGAAGATGATAAACAAATTAATCGTTCCGGTAACAGCTAGTGCTTTATTATTAGGCGCTTGTGGCGCTAGTGCCACAGACTCTAAAGAAAATACATTAATTTCTTCTAAAGCTGGAGACGTAACAGTTGCAGATACAATGAAAAAAATCGGTAAAGATCAAATTGCAAATGCATCATTTACTGAAATGTTAAATAAAATTTT\"\n",
            "Label: 7 \n",
            "\n",
            "(2)\n",
            "Input: \"CACAGCCGGCCGCTGACCTGCTGGCCATCGGAGCGCTGGCCGGCCTCGAGGATATTGGCCAGCAGCAGGTGGATGTCTCGGGCATAGCGCTCCCCCTGGTAGGTGATGCGAATGCTGCGGCCCTGGCGCTCGGTCAGGGCAAAACCCAGGGTCTGCTCCAGGCTCTTGATCTGGTGGCTGATGGCGCTGGGCGTCAGGTTCAGCTCATTGGCGGCCTCGGCGACACTGCCCAGGCGGGCCACCGCGTCCA\"\n",
            "Label: 5 \n",
            "\n",
            "(3)\n",
            "Input: \"CGCCGGCACCGTTGCTGGCCAAAATCGCCGAGCGTCCGGATGCCGGCATGCATCGTGAATCGTCTTATCTGAAATGGCACTGGCGCGTTTGCCGGGAACTTCTCCAACGTCGGGAGCACGGGGCAACTCATGGCTAAACTCATCGTGGGCAACGTCGATAACGAAGCAATGATCGGGGACACGAAGCGTGCATCGCTTCCGCTTCGCCAGGTATCAGCGATTGCAGCAAGGCGCCTCGTCTGGCAGATGA\"\n",
            "Label: 1 \n",
            "\n",
            "(4)\n",
            "Input: \"GCAGGTGCTGTTGGCCGGCACCAACCACCACATCCGCCTGCTGCAGAATGGCCAGCTGGCCTACACTGCCGAGCCGGTCAACGAAATCTATCGGCCTTCGATCGATGTGTTCTTCGAAAGCGTCGCGCGCTATTGGTCGGGCGATGCGGTGGGCGTGCTGCTCACCGGCATGGGCCGCGATGGTGCCCAGGGCCTGAAGCTGATGCGCCAGCAGGGCTTCCTGACCATCGCCCAGGACCAGCAGAGCAGC\"\n",
            "Label: 5 \n",
            "\n",
            "(5)\n",
            "Input: \"TCCGGACGCCAATTTATTACCGGTAAGAAAAGCGAACTCACCTAATTTTACGGTCTGGTGACCAGAACCGACCGCACGCAAAAGCTTCTGAACCGATGAGGATGCTATGGGAAACACAACAATACAAACGCAGAGTTTTCGTGCTGTGGATGCAGAGCAAAGCAAGAGCAAGCGCTACATTATTCCATTCGCCTTACTTTGCTCGCTATTTTTTCTGTGGGCTGTCGCCAATAATCTGAATGACATTTTA\"\n",
            "Label: 6 \n",
            "\n"
          ],
          "name": "stdout"
        }
      ]
    },
    {
      "cell_type": "markdown",
      "metadata": {
        "id": "-ITQtOemr-dt"
      },
      "source": [
        "The goal is to have the data one-hot-encoded. For this, we can first use the map function calling a function that encodes the letters to digits from 0-3, then constructs onehot encoding for each of the three numbers (0-3) and then applies this encoding to the previously 'translated' string."
      ]
    },
    {
      "cell_type": "code",
      "metadata": {
        "id": "mYlsYP5lGxLk"
      },
      "source": [
        "# Mapping dictionary from letters to numbers\n",
        "mapping = {'A': '0', 'C': '1', 'G': '2', 'T': '3'}\n",
        "\n",
        "def one_hot_encoding(input, label):\n",
        "  \"\"\"\n",
        "  Preprocess inputs and labels: Create onehot encoded input and labelling.\n",
        "  \"\"\"\n",
        "\n",
        "  # Encode each letter to one number 0-3 according to 'mapping'-dictionary\n",
        "  for key in mapping:\n",
        "    input = tf.strings.regex_replace(input, key, mapping[key])\n",
        "  \n",
        "  # Split after each number\n",
        "  split = tf.strings.bytes_split(input)\n",
        "\n",
        "  # Encode input to Onehot encoding (numbers are strings atm, so convert those \n",
        "  # to ints before onehot encoding them)\n",
        "  l = tf.cast(tf.strings.to_number(split), tf.uint8)\n",
        "  onehot_input = tf.one_hot(l, 4)\n",
        "  onehot_input = tf.reshape(onehot_input, (-1,))\n",
        "\n",
        "  # Encode labels to onehot encoding\n",
        "  onehot_label = tf.one_hot(label, 10)\n",
        "  onehot_label = tf.reshape(onehot_label, (-1,10))\n",
        "\n",
        "  return [onehot_input], onehot_label"
      ],
      "execution_count": 18,
      "outputs": []
    },
    {
      "cell_type": "code",
      "metadata": {
        "id": "XpahIJUpr2Rv"
      },
      "source": [
        "# Preprocessing pipeline for train and test data\n",
        "train_data_encoded = train_data.map(one_hot_encoding)\n",
        "test_data_encoded = test_data.map(one_hot_encoding)"
      ],
      "execution_count": 19,
      "outputs": []
    },
    {
      "cell_type": "markdown",
      "metadata": {
        "id": "kQK3yBTNt5ws"
      },
      "source": [
        "# Task 2: Model"
      ]
    },
    {
      "cell_type": "code",
      "metadata": {
        "id": "MHCFE6abs0rx"
      },
      "source": [
        "class Model(Layer):\n",
        "\n",
        "  def __init__(self):\n",
        "    # Call super-class (of Model)\n",
        "    super(Model, self).__init__()\n",
        "\n",
        "    # Get activation functions\n",
        "    SIGMOID = tf.keras.activations.sigmoid\n",
        "    SOFTMAX = tf.keras.activations.softmax\n",
        "\n",
        "    # Define fully connected (Dense) layers: two hidden layers with 256 units each, one output layer\n",
        "    self.hidden_layer_1 = tf.keras.layers.Dense(256, activation=SIGMOID)\n",
        "    self.hidden_layer_2 = tf.keras.layers.Dense(256, activation=SIGMOID)\n",
        "\n",
        "    # Using softmax as output for network because we have 10 categories\n",
        "    self.output_layer = tf.keras.layers.Dense(10, activation=SOFTMAX)\n",
        "\n",
        "  \n",
        "  @tf.function\n",
        "  def call(self, x):\n",
        "    # Define the forward step through two hidden layers to output layer\n",
        "    x = self.hidden_layer_1(x)\n",
        "    x = self.hidden_layer_2(x)\n",
        "    x = self.output_layer(x)\n",
        "    return x\n"
      ],
      "execution_count": 20,
      "outputs": []
    },
    {
      "cell_type": "markdown",
      "metadata": {
        "id": "HlUux8wxwVIW"
      },
      "source": [
        "# Task 3: Training"
      ]
    },
    {
      "cell_type": "code",
      "metadata": {
        "id": "XnhmhshEzELw"
      },
      "source": [
        "# Define parameters\n",
        "num_epochs = 10\n",
        "learning_rate = 0.1\n",
        "running_average_factor = 0.95\n",
        "LOSS = tf.keras.losses.categorical_crossentropy\n",
        "OPTIMIZER = tf.keras.optimizers.SGD(learning_rate)\n",
        "\n",
        "# Initialize model\n",
        "model = Model()\n",
        "\n",
        "# Lists to store losses and accuracies for training and test steps\n",
        "train_losses, train_accuracies = [], []\n",
        "test_losses, test_accuracies = [], []"
      ],
      "execution_count": 21,
      "outputs": []
    },
    {
      "cell_type": "code",
      "metadata": {
        "id": "GKY5UfTOwL84"
      },
      "source": [
        "def train_step(model, input, target, loss_function, optimizer):\n",
        "  \"\"\"\n",
        "  One training step on a given model with specified input, target, loss function \n",
        "  and optimizer.\n",
        "  \"\"\"\n",
        "  with tf.GradientTape() as tape:\n",
        "    # Get prediction for input\n",
        "    prediction = model(input)\n",
        "\n",
        "    # Calculate loss\n",
        "    loss = loss_function(target, prediction)\n",
        "    gradients = tape.gradient(loss, model.trainable_variables)\n",
        "\n",
        "    # Calculate accuracy\n",
        "    accuracy = np.argmax(target, axis=1) == np.argmax(prediction, axis=1)\n",
        "    accuracy = np.mean(accuracy)\n",
        "\n",
        "  # Use optimizer function (training/ change weights)\n",
        "  optimizer.apply_gradients(zip(gradients, model.trainable_variables))\n",
        "\n",
        "  return loss, np.mean(accuracy)\n",
        "\n",
        "def test(model, test_data, loss_function):\n",
        "  \"\"\"\n",
        "  Tests model on test data to receive loss and accuracy on testing data.\n",
        "  \"\"\"\n",
        "\n",
        "  test_accuracy_aggregator = []\n",
        "  test_loss_aggregator = []\n",
        "\n",
        "  for (input, target) in test_data:\n",
        "    # Get prediction for each input from test data\n",
        "    prediction = model(input)\n",
        "\n",
        "    # Get loss and accuracy\n",
        "    sample_test_loss = loss_function(target, prediction)\n",
        "\n",
        "    # Compare positions of onehot encoded prediction and target - for each \n",
        "    # match, add 1, else 0. Then average over result\n",
        "    sample_test_accuracy = np.argmax(target, axis=1) == np.argmax(prediction, axis=1)\n",
        "    sample_test_accuracy = np.mean(sample_test_accuracy) \n",
        "\n",
        "    # Append current loss and accuracy\n",
        "    test_loss_aggregator.append(sample_test_loss.numpy())\n",
        "    test_accuracy_aggregator.append(np.mean(sample_test_accuracy))\n",
        "\n",
        "  # Average over all losses and accuracies of the current epoch\n",
        "  test_loss = np.mean(test_loss_aggregator)\n",
        "  test_accuracy = np.mean(test_accuracy_aggregator)\n",
        "\n",
        "  return test_loss, test_accuracy"
      ],
      "execution_count": 22,
      "outputs": []
    },
    {
      "cell_type": "code",
      "metadata": {
        "id": "dNjWt-dsylmA",
        "outputId": "d4a32732-b285-45ad-b23c-24c04b0e2264",
        "colab": {
          "base_uri": "https://localhost:8080/"
        }
      },
      "source": [
        "for epoch in range(num_epochs):\n",
        "\n",
        "  # Track epoch and time while code runs\n",
        "  start = time.time()\n",
        "  print('Start epoch ' + str(epoch+1) + '...')\n",
        "\n",
        "  running_average_loss, running_average_accuracy = 0, 0\n",
        "\n",
        "  # Iterate over training data\n",
        "  for i, (input, target) in enumerate(train_data_encoded):\n",
        "\n",
        "    # Calculate current loss and accuracy\n",
        "    train_loss, train_accuracy = train_step(model, input, target, LOSS, OPTIMIZER)\n",
        "\n",
        "    # Apply running average to current loss and accuracy\n",
        "    running_average_loss = running_average_factor * running_average_loss + (1 - running_average_factor) * train_loss\n",
        "    running_average_accuracy = running_average_factor * running_average_accuracy + (1 - running_average_factor) * train_accuracy\n",
        "  \n",
        "  train_losses.append(running_average_loss)\n",
        "  train_accuracies.append(running_average_accuracy)\n",
        "\n",
        "  # Calculate test loss and accuracies\n",
        "  test_loss, test_accuracy = test(model, test_data_encoded, LOSS)\n",
        "  test_losses.append(test_loss)\n",
        "  test_accuracies.append(test_accuracy)\n",
        "\n",
        "  # Measure time required for each epoch\n",
        "  print('... finished after ' + str(time.time() - start) + ' seconds')\n"
      ],
      "execution_count": 23,
      "outputs": [
        {
          "output_type": "stream",
          "text": [
            "Start epoch 1...\n",
            "... finished after 543.5376720428467 seconds\n",
            "Start epoch 2...\n",
            "... finished after 548.7660810947418 seconds\n",
            "Start epoch 3...\n",
            "... finished after 553.4754402637482 seconds\n",
            "Start epoch 4...\n",
            "... finished after 545.5765941143036 seconds\n",
            "Start epoch 5...\n",
            "... finished after 550.8845825195312 seconds\n",
            "Start epoch 6...\n",
            "... finished after 549.2791266441345 seconds\n",
            "Start epoch 7...\n",
            "... finished after 548.1981384754181 seconds\n",
            "Start epoch 8...\n",
            "... finished after 517.4365527629852 seconds\n",
            "Start epoch 9...\n",
            "... finished after 540.6964292526245 seconds\n",
            "Start epoch 10...\n",
            "... finished after 546.6578307151794 seconds\n"
          ],
          "name": "stdout"
        }
      ]
    },
    {
      "cell_type": "markdown",
      "metadata": {
        "id": "0AxuutZ375Bd"
      },
      "source": [
        "# Task 4 Visualization\n",
        "\n",
        "The following code is used to display training and testing losses and accuracies. There are two plots, one for training and one for testing where each plot contains the loss in red and accuracy in blue."
      ]
    },
    {
      "cell_type": "code",
      "metadata": {
        "id": "EEqsLFI074b8",
        "outputId": "b3290559-6f58-43c9-c496-1c8a3bb73e8e",
        "colab": {
          "base_uri": "https://localhost:8080/",
          "height": 369
        }
      },
      "source": [
        "# Variables for plotting stored in lists\n",
        "plot_values = [[train_accuracies, train_losses], [test_accuracies, test_losses]]\n",
        "plot_titles = ['Training', 'Testing']\n",
        "\n",
        "# Define plot (two horizontally aligned plots)\n",
        "fig, axes = plt.subplots(1, 2, figsize=(15,5), sharey=True)\n",
        "\n",
        "# Create subplots for training and testing\n",
        "for i, ax in enumerate(axes):\n",
        "\n",
        "  # Respective title: 'Training', 'Testing'\n",
        "  ax.set_title(plot_titles[i])\n",
        "\n",
        "  # Get respective list for accuracies and losses\n",
        "  ax.plot(plot_values[i][0], 'b', label='Accuracy')\n",
        "  ax.plot(plot_values[i][1], 'r', label='Loss')\n",
        "  \n",
        "  ax.set(xlabel='Epoch', ylabel='Average accuracy / loss')\n",
        "  ax.legend()\n",
        "\n",
        "plt.tight_layout()\n",
        "plt.show()"
      ],
      "execution_count": 24,
      "outputs": [
        {
          "output_type": "display_data",
          "data": {
            "image/png": "[encoded data removed]",
            "text/plain": [
              "<Figure size 1080x360 with 2 Axes>"
            ]
          },
          "metadata": {
            "tags": [],
            "needs_background": "light"
          }
        }
      ]
    },
    {
      "cell_type": "code",
      "metadata": {
        "id": "ngf3ulQ6_j_G"
      },
      "source": [
        ""
      ],
      "execution_count": null,
      "outputs": []
    }
  ]
}