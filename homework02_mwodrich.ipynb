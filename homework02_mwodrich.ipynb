{
 "cells": [
  {
   "cell_type": "markdown",
   "metadata": {},
   "source": [
    "\n",
    "#### IANNwTF WS2020/21\n",
    "Clara Schier, Johanna Linkemeyer, Marisa Wodrich\n",
    "# Homework 02\n",
    "\n",
    "In this homework we implemented a Multi-Layer-Perceptron (MLP) which can be trained on logical gates. For the purpose of the homework, we trained it on the XOR problem, however it can easily be adjusted and trained on other logical gates. "
   ]
  },
  {
   "cell_type": "markdown",
   "metadata": {},
   "source": [
    "### 1 Preparation"
   ]
  },
  {
   "cell_type": "code",
   "execution_count": 1,
   "metadata": {},
   "outputs": [],
   "source": [
    "import numpy as np"
   ]
  },
  {
   "cell_type": "markdown",
   "metadata": {},
   "source": [
    "We will use sigmoid as our activation function:"
   ]
  },
  {
   "cell_type": "code",
   "execution_count": 2,
   "metadata": {},
   "outputs": [],
   "source": [
    "# sigmoid function\n",
    "def sigmoid(x):\n",
    "    return 1/(1 + np.exp(-x)) \n",
    "\n",
    "# first derivative of sigmoid function\n",
    "def sigmoidprime(x):\n",
    "    return sigmoid(x) * (1 - sigmoid(x))"
   ]
  },
  {
   "cell_type": "markdown",
   "metadata": {},
   "source": [
    "### 2 Data Set"
   ]
  },
  {
   "cell_type": "code",
   "execution_count": 3,
   "metadata": {},
   "outputs": [],
   "source": [
    "# possible inputs for our MLP\n",
    "inputs = np.array([[0,0],[0,1],[1,0],[1,1]])\n",
    "\n",
    "# labels / target values for different logical gates\n",
    "# 0 = false ; 1 = true\n",
    "t_and = np.array([0,0,0,1])\n",
    "t_or = np.array([0,1,1,1])\n",
    "t_nand = np.array([1,1,1,0])\n",
    "t_nor = np.array([1,0,0,0])\n",
    "t_xor = np.array([0,1,1,0])"
   ]
  },
  {
   "cell_type": "markdown",
   "metadata": {},
   "source": [
    "### 3 Perceptron\n",
    "Disclaimer: This class is to some extend based on the flipped classroom session and was adapted accordingly to fit the present task."
   ]
  },
  {
   "cell_type": "code",
   "execution_count": 4,
   "metadata": {},
   "outputs": [],
   "source": [
    "class Perceptron: \n",
    "    \n",
    "    def __init__(self, input_units):\n",
    "        \n",
    "        self.input_units = input_units\n",
    "        \n",
    "        # draw random weights from standard normal distribution\n",
    "        self.weights = np.random.randn(input_units)\n",
    "        \n",
    "        # draw random bias from standard normal distribution\n",
    "        self.bias = np.random.randn()\n",
    "        \n",
    "        # set learning rate\n",
    "        self.alpha = 1\n",
    "        \n",
    "        # initialize drive (will be changed during every forward step)\n",
    "        self.drive = 0\n",
    "        \n",
    "        # initialzie inputs (will be changed during every forward step)\n",
    "        self.inputs = 0\n",
    "        \n",
    "    def forward_step(self, inputs):\n",
    "        \n",
    "        # save the inputs to object variable\n",
    "        self.inputs = inputs\n",
    "        \n",
    "        # calcultae drive: weight the inputs and add the bias\n",
    "        self.drive =  self.weights @ inputs + self.bias\n",
    "        \n",
    "        return sigmoid(self.drive)\n",
    "        \n",
    "        \n",
    "    def update(self, delta):\n",
    "        \n",
    "        # update weights\n",
    "        self.weights -= self.alpha * delta * self.inputs\n",
    "        \n",
    "        # update bias\n",
    "        self.bias -= self.alpha * delta\n",
    "        "
   ]
  },
  {
   "cell_type": "markdown",
   "metadata": {},
   "source": [
    "###### Update Step:\n",
    "\n",
    "function for gradients: $\\frac{\\delta L}{\\delta w_{ij}^{(l)}} = \\delta_i^{(l)} a_j^{(l-1)}$\n",
    "\n",
    "update function: $\\theta_{new} = \\theta_{old} - \\alpha \\bigtriangledown L_{\\theta}$"
   ]
  },
  {
   "cell_type": "markdown",
   "metadata": {},
   "source": [
    "### 4 Multi-Layer Perceptron"
   ]
  },
  {
   "cell_type": "code",
   "execution_count": 5,
   "metadata": {},
   "outputs": [],
   "source": [
    "class MLP():\n",
    "    \n",
    "    def __init__(self):\n",
    "        \n",
    "        # initialize 1 hidden layer with 4 perceptrons\n",
    "        # for our purpose of training logical gates, they will always have 2 inputs\n",
    "        self.hidden_layer = [Perceptron(input_units=2)] * 4\n",
    "        \n",
    "        # initialize 1 output neuron\n",
    "        # it gets 4 inputs (i.e. from the neurons of the hidden layer)\n",
    "        self.output_neuron = Perceptron(input_units=4)\n",
    "        \n",
    "        # initialzie inputs (will be changed during every forward step)\n",
    "        self.inputs = 0\n",
    "        \n",
    "        # initialize output (will be changed during every forward step)\n",
    "        self.output = 0\n",
    "        \n",
    "    def forward_step(self, inputs):\n",
    "        \n",
    "        # save current inputs\n",
    "        self.inputs = inputs\n",
    "        \n",
    "        # perform forward step for each perceptron in hidden layer\n",
    "        outputs_hidden_layer = np.asarray([perceptron.forward_step(inputs) for perceptron in self.hidden_layer])\n",
    "        \n",
    "        # reshape (in order to have the right format for further usage)\n",
    "        outputs_hidden_layer = np.reshape(outputs_hidden_layer, newshape=(-1))\n",
    "        \n",
    "        # perfrom forward step on output perceptron\n",
    "        # it takes the outputs from the hidden layer perceptrons as new inputs\n",
    "        self.output = self.output_neuron.forward_step(outputs_hidden_layer)\n",
    "        \n",
    "        \n",
    "    def backprop_step(self, label):\n",
    "        \n",
    "        # calculate error of the output neuron and update the perceptrons weights and its bias\n",
    "        delta = - (label - self.output)  * sigmoidprime(self.output_neuron.drive)\n",
    "        self.output_neuron.update(delta)\n",
    "        \n",
    "        # calculate the error for perceptrons in the hidden layer and update their weights and biases\n",
    "        for i, perceptron in enumerate(self.hidden_layer):\n",
    "            \n",
    "            delta_p = delta * self.output_neuron.weights[i] * sigmoidprime(perceptron.drive) \n",
    "            perceptron.update(delta_p)"
   ]
  },
  {
   "cell_type": "markdown",
   "metadata": {},
   "source": [
    "###### Calculation of error \n",
    "\n",
    "for output neuron:\n",
    "$\\delta_i^{(l)} = - (t_i - y_i) \\sigma'(d_i^{(N)})$\n",
    "\n",
    "for hidden layer neurons:\n",
    "$\\delta_i^{(l)} = (\\sum\\limits_{k=1}^m \\delta_k^{(l+1)}w_{ki}^{(l+1)})\\sigma'(d_i^{(l)})$\n",
    "\n",
    "with $\\delta_i^{(l)}$ being the error term delta of a perceptron, $d_i$ being the drive, $w$ the weights, $t_i$ the target value (the label) and $y_i$ the output of the MLP."
   ]
  },
  {
   "cell_type": "markdown",
   "metadata": {},
   "source": [
    "### 5 Training\n",
    "\n",
    "In this section we will initialize a MLP instance and train it on the XOR locigal gate for 1000 epochs."
   ]
  },
  {
   "cell_type": "code",
   "execution_count": 6,
   "metadata": {},
   "outputs": [],
   "source": [
    "# create MLP instance\n",
    "mlp = MLP()\n",
    "\n",
    "epochs = 2000\n",
    "\n",
    "accuracies = [0] * epochs\n",
    "losses = [0] * epochs\n",
    "\n",
    "# train for 1000 epochs\n",
    "for i in range(epochs):\n",
    "    \n",
    "    loss = 0       # for average loss during this epoch\n",
    "    accuracy = 0   # for average accuray during this epoch\n",
    "    \n",
    "    #during each epoch iterate over each data point\n",
    "    for j in range(4):\n",
    "        inp = inputs[j]\n",
    "        target = t_xor[j]  # change 't_or' to train on other logical gate\n",
    "        \n",
    "        # perform one forward and one backward step to adjust parameters\n",
    "        mlp.forward_step(inp)\n",
    "        mlp.backprop_step(target)\n",
    "    \n",
    "        # calculate loss using squared error\n",
    "        # muliply with 0.25 to get average\n",
    "        loss += ((mlp.output - target)**2) * 0.25\n",
    "        \n",
    "        # calculate accuracy\n",
    "        # 0.25 to get average\n",
    "        if abs(mlp.output - target) < 0.5:\n",
    "            accuracy += 0.25\n",
    "    \n",
    "    accuracies[i] = accuracy\n",
    "    losses[i] = loss"
   ]
  },
  {
   "cell_type": "markdown",
   "metadata": {},
   "source": [
    "### 6 Visualization"
   ]
  },
  {
   "cell_type": "code",
   "execution_count": 7,
   "metadata": {},
   "outputs": [],
   "source": [
    "import matplotlib.pyplot as plt"
   ]
  },
  {
   "cell_type": "code",
   "execution_count": 8,
   "metadata": {},
   "outputs": [
    {
     "data": {
      "image/png": "[encoded data removed]",
      "text/plain": [
       "<Figure size 720x360 with 1 Axes>"
      ]
     },
     "metadata": {
      "needs_background": "light"
     },
     "output_type": "display_data"
    }
   ],
   "source": [
    "# plot the average accuracy for every epoch\n",
    "plt.figure(figsize=(10,5))\n",
    "plt.plot(accuracies)\n",
    "plt.xlabel(\"Epochs\")\n",
    "plt.ylabel(\"Average accuracy\")\n",
    "plt.title(\"Average accuracy of MLP trained on XOR problem\")\n",
    "plt.show()"
   ]
  },
  {
   "cell_type": "code",
   "execution_count": 9,
   "metadata": {},
   "outputs": [
    {
     "data": {
      "image/png": "[encoded data removed]",
      "text/plain": [
       "<Figure size 720x360 with 1 Axes>"
      ]
     },
     "metadata": {
      "needs_background": "light"
     },
     "output_type": "display_data"
    }
   ],
   "source": [
    "# plot the average loss for every epoch\n",
    "plt.figure(figsize=(10,5))\n",
    "plt.plot(losses)\n",
    "plt.xlabel(\"Epochs\")\n",
    "plt.ylabel(\"Average loss\")\n",
    "plt.title(\"Average loss of MLP trained on XOR problem\")\n",
    "plt.show()"
   ]
  },
  {
   "cell_type": "code",
   "execution_count": null,
   "metadata": {},
   "outputs": [],
   "source": []
  }
 ],
 "metadata": {
  "kernelspec": {
   "display_name": "Python 3",
   "language": "python",
   "name": "python3"
  },
  "language_info": {
   "codemirror_mode": {
    "name": "ipython",
    "version": 3
   },
   "file_extension": ".py",
   "mimetype": "text/x-python",
   "name": "python",
   "nbconvert_exporter": "python",
   "pygments_lexer": "ipython3",
   "version": "3.6.9"
  }
 },
 "nbformat": 4,
 "nbformat_minor": 2
}
